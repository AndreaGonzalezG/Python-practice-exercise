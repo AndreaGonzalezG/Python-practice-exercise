{
 "cells": [
  {
   "cell_type": "markdown",
   "metadata": {},
   "source": [
    "# Ejercicios\n",
    "\n",
    "\n",
    "1. Usando la siguiente lista: \n",
    "    ```python\n",
    "    temperaturas = [2,45,67,23, 45,66,12,1,34,67,99,98,67,64, 44, 100]\n",
    "    ```\n",
    "\n",
    "    Crea tres listas nuevas, donde: \n",
    "\n",
    "    - En la primera tengamos temperaturas entre 0 - 10, llama a la nueva lista `bajas_temp`.\n",
    "\n",
    "    - En la segunda tengamos temperaturas entre 11- 20, llama a la nueva lista `medias_temp`.\n",
    "\n",
    "    - En la tercera tengamos temperaturas por encima de 20, llama a la nueva lista `altas_temp`"
   ]
  },
  {
   "cell_type": "code",
   "execution_count": 25,
   "metadata": {},
   "outputs": [],
   "source": [
    "temperaturas = [2,45,67,23, 45,66,12,1,34,67,99,98,67,64, 44, 100]\n",
    "\n",
    "bajas_temp= range (0,11)\n",
    "\n",
    "medias_temp= range (11, 21)\n",
    "\n",
    "altas_temp= range(21,100)\n",
    "\n",
    "\n"
   ]
  },
  {
   "cell_type": "markdown",
   "metadata": {},
   "source": [
    "2. Las temperaturas están grados centígrados. Para cada una de las listas creadas en el ejercicio anterior, convertid las temperaturas a grados fahrenheit\n",
    "\n",
    "    ```\n",
    "    # la relacion de grados celsius y fahrenheit es:\n",
    "    (0 °C × 9 / 5) + 32 = 32 °F"
   ]
  },
  {
   "cell_type": "code",
   "execution_count": 15,
   "metadata": {},
   "outputs": [
    {
     "name": "stdout",
     "output_type": "stream",
     "text": [
      "La temperatura es baja, correspondiente a 0 celsius\n",
      "La temperatura es baja, correspondiente a 1 celsius\n",
      "La temperatura es baja, correspondiente a 2 celsius\n",
      "La temperatura es baja, correspondiente a 3 celsius\n",
      "La temperatura es baja, correspondiente a 4 celsius\n",
      "La temperatura es baja, correspondiente a 5 celsius\n",
      "La temperatura es baja, correspondiente a 6 celsius\n",
      "La temperatura es baja, correspondiente a 7 celsius\n",
      "La temperatura es baja, correspondiente a 8 celsius\n",
      "La temperatura es baja, correspondiente a 9 celsius\n",
      "La temperatura es baja, correspondiente a 10 celsius\n"
     ]
    }
   ],
   "source": [
    "# Bajas temperaturas\n",
    "\n",
    "for temperatura in bajas_temp:\n",
    "    celsius= int(temperatura * 9/5 +32)\n",
    "\n",
    "    print ('La temperatura es baja, correspondiente a', temperatura,'celsius')\n"
   ]
  },
  {
   "cell_type": "code",
   "execution_count": 16,
   "metadata": {},
   "outputs": [
    {
     "name": "stdout",
     "output_type": "stream",
     "text": [
      "La temperatura es media, correspondiente a 11 celsius\n",
      "La temperatura es media, correspondiente a 12 celsius\n",
      "La temperatura es media, correspondiente a 13 celsius\n",
      "La temperatura es media, correspondiente a 14 celsius\n",
      "La temperatura es media, correspondiente a 15 celsius\n",
      "La temperatura es media, correspondiente a 16 celsius\n",
      "La temperatura es media, correspondiente a 17 celsius\n",
      "La temperatura es media, correspondiente a 18 celsius\n",
      "La temperatura es media, correspondiente a 19 celsius\n",
      "La temperatura es media, correspondiente a 20 celsius\n"
     ]
    }
   ],
   "source": [
    "# Medias  temperaturas\n",
    "\n",
    "for temperatura in medias_temp:\n",
    "    celsius= int(temperatura * 9/5 +32)\n",
    "\n",
    "    print ('La temperatura es media, correspondiente a', temperatura,'celsius')"
   ]
  },
  {
   "cell_type": "code",
   "execution_count": 17,
   "metadata": {},
   "outputs": [
    {
     "name": "stdout",
     "output_type": "stream",
     "text": [
      "La temperatura es media, correspondiente a 21 celsius\n",
      "La temperatura es media, correspondiente a 22 celsius\n",
      "La temperatura es media, correspondiente a 23 celsius\n",
      "La temperatura es media, correspondiente a 24 celsius\n",
      "La temperatura es media, correspondiente a 25 celsius\n",
      "La temperatura es media, correspondiente a 26 celsius\n",
      "La temperatura es media, correspondiente a 27 celsius\n",
      "La temperatura es media, correspondiente a 28 celsius\n",
      "La temperatura es media, correspondiente a 29 celsius\n",
      "La temperatura es media, correspondiente a 30 celsius\n",
      "La temperatura es media, correspondiente a 31 celsius\n",
      "La temperatura es media, correspondiente a 32 celsius\n",
      "La temperatura es media, correspondiente a 33 celsius\n",
      "La temperatura es media, correspondiente a 34 celsius\n",
      "La temperatura es media, correspondiente a 35 celsius\n",
      "La temperatura es media, correspondiente a 36 celsius\n",
      "La temperatura es media, correspondiente a 37 celsius\n",
      "La temperatura es media, correspondiente a 38 celsius\n",
      "La temperatura es media, correspondiente a 39 celsius\n",
      "La temperatura es media, correspondiente a 40 celsius\n",
      "La temperatura es media, correspondiente a 41 celsius\n",
      "La temperatura es media, correspondiente a 42 celsius\n",
      "La temperatura es media, correspondiente a 43 celsius\n",
      "La temperatura es media, correspondiente a 44 celsius\n",
      "La temperatura es media, correspondiente a 45 celsius\n",
      "La temperatura es media, correspondiente a 46 celsius\n",
      "La temperatura es media, correspondiente a 47 celsius\n",
      "La temperatura es media, correspondiente a 48 celsius\n",
      "La temperatura es media, correspondiente a 49 celsius\n",
      "La temperatura es media, correspondiente a 50 celsius\n",
      "La temperatura es media, correspondiente a 51 celsius\n",
      "La temperatura es media, correspondiente a 52 celsius\n",
      "La temperatura es media, correspondiente a 53 celsius\n",
      "La temperatura es media, correspondiente a 54 celsius\n",
      "La temperatura es media, correspondiente a 55 celsius\n",
      "La temperatura es media, correspondiente a 56 celsius\n",
      "La temperatura es media, correspondiente a 57 celsius\n",
      "La temperatura es media, correspondiente a 58 celsius\n",
      "La temperatura es media, correspondiente a 59 celsius\n",
      "La temperatura es media, correspondiente a 60 celsius\n",
      "La temperatura es media, correspondiente a 61 celsius\n",
      "La temperatura es media, correspondiente a 62 celsius\n",
      "La temperatura es media, correspondiente a 63 celsius\n",
      "La temperatura es media, correspondiente a 64 celsius\n",
      "La temperatura es media, correspondiente a 65 celsius\n",
      "La temperatura es media, correspondiente a 66 celsius\n",
      "La temperatura es media, correspondiente a 67 celsius\n",
      "La temperatura es media, correspondiente a 68 celsius\n",
      "La temperatura es media, correspondiente a 69 celsius\n",
      "La temperatura es media, correspondiente a 70 celsius\n",
      "La temperatura es media, correspondiente a 71 celsius\n",
      "La temperatura es media, correspondiente a 72 celsius\n",
      "La temperatura es media, correspondiente a 73 celsius\n",
      "La temperatura es media, correspondiente a 74 celsius\n",
      "La temperatura es media, correspondiente a 75 celsius\n",
      "La temperatura es media, correspondiente a 76 celsius\n",
      "La temperatura es media, correspondiente a 77 celsius\n",
      "La temperatura es media, correspondiente a 78 celsius\n",
      "La temperatura es media, correspondiente a 79 celsius\n",
      "La temperatura es media, correspondiente a 80 celsius\n",
      "La temperatura es media, correspondiente a 81 celsius\n",
      "La temperatura es media, correspondiente a 82 celsius\n",
      "La temperatura es media, correspondiente a 83 celsius\n",
      "La temperatura es media, correspondiente a 84 celsius\n",
      "La temperatura es media, correspondiente a 85 celsius\n",
      "La temperatura es media, correspondiente a 86 celsius\n",
      "La temperatura es media, correspondiente a 87 celsius\n",
      "La temperatura es media, correspondiente a 88 celsius\n",
      "La temperatura es media, correspondiente a 89 celsius\n",
      "La temperatura es media, correspondiente a 90 celsius\n",
      "La temperatura es media, correspondiente a 91 celsius\n",
      "La temperatura es media, correspondiente a 92 celsius\n",
      "La temperatura es media, correspondiente a 93 celsius\n",
      "La temperatura es media, correspondiente a 94 celsius\n",
      "La temperatura es media, correspondiente a 95 celsius\n",
      "La temperatura es media, correspondiente a 96 celsius\n",
      "La temperatura es media, correspondiente a 97 celsius\n",
      "La temperatura es media, correspondiente a 98 celsius\n",
      "La temperatura es media, correspondiente a 99 celsius\n"
     ]
    }
   ],
   "source": [
    "# ALtas  temperaturas\n",
    "\n",
    "for temperaturas in altas_temp:\n",
    "    celsius= int(temperaturas * 9/5 +32)\n",
    "\n",
    "    print ('La temperatura es media, correspondiente a', temperaturas,'celsius')"
   ]
  },
  {
   "cell_type": "markdown",
   "metadata": {},
   "source": [
    "3. Define e imprime un rango de 0 a 6 (excluido)."
   ]
  },
  {
   "cell_type": "code",
   "execution_count": 18,
   "metadata": {},
   "outputs": [
    {
     "name": "stdout",
     "output_type": "stream",
     "text": [
      "Rango 1 es: [0, 1, 2, 3, 4, 5]\n"
     ]
    }
   ],
   "source": [
    "\n",
    "rango1=[]\n",
    "\n",
    "for x in  range (0,6):\n",
    "    rango1.append(x)\n",
    "\n",
    "print ('Rango 1 es:', rango1)"
   ]
  },
  {
   "cell_type": "markdown",
   "metadata": {},
   "source": [
    "4. Define e imprime un rango de 3 a 6 ambos incluidos."
   ]
  },
  {
   "cell_type": "code",
   "execution_count": 19,
   "metadata": {},
   "outputs": [
    {
     "name": "stdout",
     "output_type": "stream",
     "text": [
      "Rango 2 es: [3, 4, 5, 6]\n"
     ]
    }
   ],
   "source": [
    "\n",
    "rango2=[]\n",
    "\n",
    "for x in  range (3,7):\n",
    "    rango2.append(x)\n",
    "\n",
    "print ('Rango 2 es:', rango2)"
   ]
  },
  {
   "cell_type": "markdown",
   "metadata": {},
   "source": [
    "5. Define e imprime un rango de 5 a 9 ambos excluidos."
   ]
  },
  {
   "cell_type": "code",
   "execution_count": 20,
   "metadata": {},
   "outputs": [
    {
     "name": "stdout",
     "output_type": "stream",
     "text": [
      "Rango 3 es: [5, 6, 7, 8, 9]\n"
     ]
    }
   ],
   "source": [
    "rango3=[]\n",
    "\n",
    "for x in  range (5,10):\n",
    "    rango3.append(x)\n",
    "\n",
    "print ('Rango 3 es:', rango3)"
   ]
  },
  {
   "cell_type": "markdown",
   "metadata": {},
   "source": [
    "6. Define e imprime un rango de 3 números que empiece en 2."
   ]
  },
  {
   "cell_type": "code",
   "execution_count": 21,
   "metadata": {},
   "outputs": [
    {
     "name": "stdout",
     "output_type": "stream",
     "text": [
      "Rango 4 es: [2, 3, 4]\n"
     ]
    }
   ],
   "source": [
    "rango4=[]\n",
    "\n",
    "for x in  range(2,5):\n",
    "    rango4.append(x)\n",
    "\n",
    "print ('Rango 4 es:', rango4)\n"
   ]
  },
  {
   "cell_type": "markdown",
   "metadata": {},
   "source": [
    "7. Define e imprime un rango que empiece en 2, aumentando cada paso por 3, que pare antes de llegar al número 13."
   ]
  },
  {
   "cell_type": "code",
   "execution_count": 22,
   "metadata": {},
   "outputs": [
    {
     "name": "stdout",
     "output_type": "stream",
     "text": [
      "Rango 5 es: [2, 5, 8, 11]\n"
     ]
    }
   ],
   "source": [
    "rango5= []\n",
    "\n",
    "for x in  range(2,12,3):\n",
    "    rango5.append(x)\n",
    "\n",
    "print ('Rango 5 es:', rango5)\n"
   ]
  },
  {
   "cell_type": "markdown",
   "metadata": {},
   "source": [
    "8. Define e imprime un rango con todos los valores impares que hay hasta 10."
   ]
  },
  {
   "cell_type": "code",
   "execution_count": 23,
   "metadata": {},
   "outputs": [
    {
     "name": "stdout",
     "output_type": "stream",
     "text": [
      "Rango 6 es: [2, 4, 6, 8, 10]\n"
     ]
    }
   ],
   "source": [
    "rango6= []\n",
    "\n",
    "for x in  range(2,11,2):\n",
    "    rango6.append(x)\n",
    "\n",
    "print ('Rango 6 es:', rango6)"
   ]
  },
  {
   "cell_type": "markdown",
   "metadata": {},
   "source": [
    "9. Crea una lista nueva donde tengamos los números de la lista `temperaturas` elevados al cuadrado. "
   ]
  },
  {
   "cell_type": "code",
   "execution_count": 26,
   "metadata": {},
   "outputs": [
    {
     "name": "stdout",
     "output_type": "stream",
     "text": [
      " Lista temperaturas al cuadrado [4, 2025, 4489, 529, 2025, 4356, 144, 1, 1156, 4489, 9801, 9604, 4489, 4096, 1936, 10000]\n"
     ]
    }
   ],
   "source": [
    "temperaturas = [2,45,67,23, 45,66,12,1,34,67,99,98,67,64, 44, 100]\n",
    "\n",
    "\n",
    "temperaturas_cuadrado= [ temperatura ** 2 for temperatura in temperaturas ]\n",
    "\n",
    "print (' Lista temperaturas al cuadrado', temperaturas_cuadrado)"
   ]
  },
  {
   "cell_type": "markdown",
   "metadata": {},
   "source": [
    "10. Crea una lista nueva donde tengamos el resto de la división de cada uno de los números entre 2.  "
   ]
  },
  {
   "cell_type": "code",
   "execution_count": null,
   "metadata": {},
   "outputs": [
    {
     "name": "stdout",
     "output_type": "stream",
     "text": [
      " La lista de temperaturas [2, 45, 67, 23, 45, 66, 12, 1, 34, 67, 99, 98, 67, 64, 44, 100]\n",
      " Lista temperaturas divididas a la 2 [0, 1, 1, 1, 1, 0, 0, 1, 0, 1, 1, 0, 1, 0, 0, 0]\n"
     ]
    }
   ],
   "source": [
    "print (' La lista de temperaturas', temperaturas)\n",
    "\n",
    "temperatura_dividida= [temperaturas% 2 for temperaturas in temperaturas]\n",
    "\n",
    "print (' Lista temperaturas divididas a la 2', temperatura_dividida)"
   ]
  },
  {
   "cell_type": "markdown",
   "metadata": {},
   "source": [
    "11. Crea una lista nueva donde tengamos solo los elementos pares de la lista `temperaturas`. \n"
   ]
  },
  {
   "cell_type": "code",
   "execution_count": null,
   "metadata": {},
   "outputs": [
    {
     "name": "stdout",
     "output_type": "stream",
     "text": [
      "[2, 45, 67, 23, 45, 66, 12, 1, 34, 67, 99, 98, 67, 64, 44, 100]\n",
      "Las temperaturas pares : [2, 66, 12, 34, 98, 64, 44, 100]\n"
     ]
    }
   ],
   "source": [
    "print(temperaturas)\n",
    "\n",
    "elementos_pares = [tem for tem in temperaturas if tem % 2 == 0]\n",
    "\n",
    "print ('Las temperaturas pares :', elementos_pares)"
   ]
  },
  {
   "cell_type": "markdown",
   "metadata": {},
   "source": [
    "12. Crea una lista nueva donde tengamos solo los elementos que sean menores que 50. "
   ]
  },
  {
   "cell_type": "code",
   "execution_count": null,
   "metadata": {},
   "outputs": [
    {
     "name": "stdout",
     "output_type": "stream",
     "text": [
      "Las temperaturas pares de temperaturas al cuadrado: [2, 45, 23, 45, 12, 1, 34, 44]\n"
     ]
    }
   ],
   "source": [
    "elementos_menores = [ temp1 for temp1 in temperaturas if temp1 < 50]\n",
    "print ('Las temperaturas pares de temperaturas al cuadrado:', elementos_menores)"
   ]
  },
  {
   "cell_type": "markdown",
   "metadata": {},
   "source": [
    "13. Crea una lista donde tengamos los valores \"par\" e \"impar\" en función de los valores de la lista original. La lista resultante tiene que ser como la que indicamos a continuación: \n",
    "\n",
    "    ```python\n",
    "    lista_strings = [\"par\",\"impar\",\"impar\",\"impar\", \"impar\",\"par\",\"par\",\"impar\",\"par\",\"impar\",\"impar\",\"par\",\"impar\",\"par\", \"par\", \"par\"]"
   ]
  },
  {
   "cell_type": "code",
   "execution_count": 27,
   "metadata": {},
   "outputs": [
    {
     "name": "stdout",
     "output_type": "stream",
     "text": [
      "La lista es ['par', 'par', 'par', 'par', 'par', 'par', 'par', 'par', 'impar']\n"
     ]
    }
   ],
   "source": [
    "lista_strings=[]\n",
    "\n",
    "for temperatura in temperaturas: \n",
    "    if temperatura % 2 == 0:\n",
    "        temperatura = 'par'\n",
    "        lista_strings.append(temperatura)\n",
    "else: \n",
    "    temperatura='impar'\n",
    "    lista_strings.append(temperatura)\n",
    "\n",
    "print (f'La lista es {lista_strings}')\n"
   ]
  },
  {
   "cell_type": "markdown",
   "metadata": {},
   "source": [
    "14. Pide al usuario un número entero positivo y suma los números pares e impares por separado hasta ese número."
   ]
  },
  {
   "cell_type": "code",
   "execution_count": 29,
   "metadata": {},
   "outputs": [
    {
     "name": "stdout",
     "output_type": "stream",
     "text": [
      " La lista de numeros pares es: [2, 66, 12, 34, 98, 64, 44, 100]\n",
      "La suma de los numeros pares es 114\n",
      "\n",
      "La lista de numero impares es:, [45, 67, 23, 45, 1, 67, 99, 67]\n",
      "\n",
      "La suma de los numeros pares es 114\n"
     ]
    }
   ],
   "source": [
    "numero_usuario= int(input('Indica un numero'))\n",
    "\n",
    "lista_pares=[]\n",
    "lista_impares= []\n",
    "\n",
    "\n",
    "for num in temperaturas: \n",
    "    if num % 2 == 0:\n",
    "        lista_pares.append(num)\n",
    "        suma_pares = sum(lista_pares[:numero_usuario])\n",
    "\n",
    "    else: \n",
    "        lista_impares. append(num)\n",
    "        suma_pares = sum(lista_impares[:numero_usuario])\n",
    "\n",
    "\n",
    "\n",
    "print ('La lista de numeros pares es:', lista_pares)\n",
    "print (f'La suma de los numeros pares es {suma_pares}''\\n')\n",
    "print (f'La lista de numero impares es:, {lista_impares}''\\n')\n",
    "print(f'La suma de los numeros pares es {suma_pares}')\n",
    "\n",
    "\n"
   ]
  },
  {
   "cell_type": "markdown",
   "metadata": {},
   "source": [
    "15. Pide al usuario ingresar una cadena y cuenta cuántas veces aparece cada vocal (a, e, i, o, u) en la cadena."
   ]
  },
  {
   "cell_type": "code",
   "execution_count": 43,
   "metadata": {},
   "outputs": [
    {
     "name": "stdout",
     "output_type": "stream",
     "text": [
      "dict_keys(['a', 'e', 'i', 'o', 'u'])\n",
      "La cantidad de vocales en la cadena es: {'a': 1, 'e': 1, 'i': 0, 'o': 2, 'u': 0}\n"
     ]
    }
   ],
   "source": [
    "cadena_usuario= (input('Escribe un texto')).lower()\n",
    "\n",
    "\n",
    "vocales= {'a':0,'e':0,'i':0,'o':0,'u':0}\n",
    "keys = vocales.keys()\n",
    "print(keys)\n",
    "\n",
    "\n",
    "for caracter in cadena_usuario: \n",
    "    if caracter in vocales:\n",
    "       vocales[caracter]+=1\n",
    "\n",
    "\n",
    "\n",
    "print (f'La cantidad de vocales en la cadena es: {vocales}')\n",
    "\n"
   ]
  }
 ],
 "metadata": {
  "kernelspec": {
   "display_name": "base",
   "language": "python",
   "name": "python3"
  },
  "language_info": {
   "codemirror_mode": {
    "name": "ipython",
    "version": 3
   },
   "file_extension": ".py",
   "mimetype": "text/x-python",
   "name": "python",
   "nbconvert_exporter": "python",
   "pygments_lexer": "ipython3",
   "version": "3.12.4"
  }
 },
 "nbformat": 4,
 "nbformat_minor": 2
}
